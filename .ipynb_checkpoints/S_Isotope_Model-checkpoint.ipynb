{
 "cells": [
  {
   "cell_type": "code",
   "execution_count": 1,
   "id": "a9e79195-2f1d-45ed-8a78-7ec7dbec0bcd",
   "metadata": {},
   "outputs": [],
   "source": [
    "import numpy as np\n",
    "import pandas as pd\n",
    "import matplotlib.pyplot as plt\n",
    "import math\n",
    "import Thermobar as pt"
   ]
  },
  {
   "cell_type": "code",
   "execution_count": 2,
   "id": "dd715d03-19ca-4a9f-b99b-303d474c7460",
   "metadata": {},
   "outputs": [],
   "source": [
    "Lerner=pd.read_excel('Supporting_Information_2.xlsx', sheet_name='Lerner2021_FilteredMI')\n",
    "Lerner_Num=Lerner.apply(pd.to_numeric, errors='coerce').fillna(0)\n",
    "Lerner_MG=pd.read_excel('Supporting_Information_2.xlsx', sheet_name='Wieser_MatrixGlass_2018')"
   ]
  },
  {
   "cell_type": "markdown",
   "id": "472c180f-085e-4cd2-91db-b62a19e37a14",
   "metadata": {},
   "source": [
    "## Which ones have sulfides"
   ]
  },
  {
   "cell_type": "code",
   "execution_count": 3,
   "id": "9b248fa3-1473-4cf7-893d-caa6cb03140c",
   "metadata": {},
   "outputs": [],
   "source": [
    "Has_Sulf=Lerner['S ppm (with sulfide restored, if applicable)_Raw']>Lerner['S_Raw_Glass_Meas']"
   ]
  },
  {
   "cell_type": "markdown",
   "id": "f73ba88b-7e55-4c01-b5ba-92e6ba547100",
   "metadata": {},
   "source": [
    "## Applying the same degassing filter for F8"
   ]
  },
  {
   "cell_type": "code",
   "execution_count": 4,
   "id": "dadad547-4278-4970-a880-19e5f33515ae",
   "metadata": {},
   "outputs": [
    {
     "name": "stderr",
     "output_type": "stream",
     "text": [
      "C:\\Users\\penny\\AppData\\Local\\Temp\\ipykernel_18228\\1912312486.py:11: SettingWithCopyWarning: \n",
      "A value is trying to be set on a copy of a slice from a DataFrame.\n",
      "Try using .loc[row_indexer,col_indexer] = value instead\n",
      "\n",
      "See the caveats in the documentation: https://pandas.pydata.org/pandas-docs/stable/user_guide/indexing.html#returning-a-view-versus-a-copy\n",
      "  Undegassed_Lerner['PEC correction coefficient'] = Undegassed_Lerner['PEC correction coefficient'].apply(pd.to_numeric,errors='coerce')\n",
      "C:\\Users\\penny\\AppData\\Local\\Temp\\ipykernel_18228\\1912312486.py:12: SettingWithCopyWarning: \n",
      "A value is trying to be set on a copy of a slice from a DataFrame.\n",
      "Try using .loc[row_indexer,col_indexer] = value instead\n",
      "\n",
      "See the caveats in the documentation: https://pandas.pydata.org/pandas-docs/stable/user_guide/indexing.html#returning-a-view-versus-a-copy\n",
      "  Degassed_Lerner['PEC correction coefficient'] = Degassed_Lerner['PEC correction coefficient'].apply(pd.to_numeric,errors='coerce')\n"
     ]
    }
   ],
   "source": [
    "FeO_Lin=np.linspace(6, 13, 50)\n",
    "grad=100\n",
    "inter=200\n",
    "S_Degass_Lin=grad*FeO_Lin-inter\n",
    "S_Degass_Lim=grad*Lerner['FeOT wt%_Raw']-inter\n",
    "Degass=Lerner['S_Raw_Glass_Meas']<S_Degass_Lim\n",
    "Undegass=(Lerner['S_Raw_Glass_Meas']>=S_Degass_Lim)\n",
    "Degassed_Lerner=Lerner.loc[Lerner['S_Raw_Glass_Meas']<S_Degass_Lim]\n",
    "Undegassed_Lerner=Lerner.loc[(Lerner['S_Raw_Glass_Meas']>=S_Degass_Lim)]\n",
    "Has_Sulf_Undegass=Undegassed_Lerner['S ppm (with sulfide restored, if applicable)_Raw']>Undegassed_Lerner['S_Raw_Glass_Meas']\n",
    "Undegassed_Lerner['PEC correction coefficient'] = Undegassed_Lerner['PEC correction coefficient'].apply(pd.to_numeric,errors='coerce')\n",
    "Degassed_Lerner['PEC correction coefficient'] = Degassed_Lerner['PEC correction coefficient'].apply(pd.to_numeric,errors='coerce')\n",
    "Lerner['PEC correction coefficient'] = Lerner['PEC correction coefficient'].apply(pd.to_numeric,errors='coerce')\n"
   ]
  },
  {
   "cell_type": "code",
   "execution_count": 5,
   "id": "590c6c9c-463a-43ad-948a-60f5985d620b",
   "metadata": {},
   "outputs": [
    {
     "data": {
      "text/plain": [
       "'0.88'"
      ]
     },
     "execution_count": 5,
     "metadata": {},
     "output_type": "execute_result"
    }
   ],
   "source": [
    "## Calculating regressions\n",
    "\n",
    "y='FeOT wt%_Raw'\n",
    "x='PEC_Equivalent'\n",
    "\n",
    "# Calculate R2\n",
    "x_vals=Undegassed_Lerner[x]\n",
    "y_vals= Undegassed_Lerner[y]\n",
    "\n",
    "stats_PEC_FeO=pt.calculate_R2(x_vals, y_vals)\n",
    "stats_PEC_FeO['R2']"
   ]
  },
  {
   "cell_type": "code",
   "execution_count": 6,
   "id": "49672081-1fd7-4327-ad07-de190bf422e9",
   "metadata": {},
   "outputs": [
    {
     "data": {
      "text/plain": [
       "'0.81'"
      ]
     },
     "execution_count": 6,
     "metadata": {},
     "output_type": "execute_result"
    }
   ],
   "source": [
    "## Calculating regressions\n",
    "\n",
    "y='δ34S'\n",
    "x='PEC_Equivalent'\n",
    "\n",
    "# Calculate R2\n",
    "x_vals=Undegassed_Lerner[x]\n",
    "y_vals= Undegassed_Lerner[y]\n",
    "\n",
    "stats_PEC_d34s=pt.calculate_R2(x_vals, y_vals)\n",
    "stats_PEC_d34s['R2']"
   ]
  },
  {
   "cell_type": "code",
   "execution_count": 7,
   "id": "9733e27e-c137-494d-a199-3b670bb60535",
   "metadata": {},
   "outputs": [
    {
     "data": {
      "text/plain": [
       "'0.69'"
      ]
     },
     "execution_count": 7,
     "metadata": {},
     "output_type": "execute_result"
    }
   ],
   "source": [
    "## Then plot of d34S vs. FeO\n",
    "\n",
    "y='S_Raw_Glass_Meas'\n",
    "x='PEC_Equivalent'\n",
    "\n",
    "\n",
    "# Calculate R2\n",
    "x_vals=Undegassed_Lerner[x]\n",
    "y_vals= Undegassed_Lerner[y]\n",
    "\n",
    "stats_PEC_S=pt.calculate_R2(x_vals, y_vals)\n",
    "stats_PEC_S['R2']"
   ]
  },
  {
   "cell_type": "code",
   "execution_count": 8,
   "id": "c6cbc24c-5d01-4b41-9f5a-f6f70bf55da2",
   "metadata": {},
   "outputs": [
    {
     "name": "stdout",
     "output_type": "stream",
     "text": [
      "0.84\n"
     ]
    }
   ],
   "source": [
    "y='δ34S'\n",
    "x='S_Raw_Glass_Meas'\n",
    "    \n",
    "x_vals=Undegassed_Lerner[y]\n",
    "y_vals= Undegassed_Lerner[x]\n",
    "stats_d34s_S=pt.calculate_R2(x_vals, y_vals)\n",
    "print(stats_d34s_S['R2'])\n"
   ]
  },
  {
   "cell_type": "markdown",
   "id": "a5613d1d-9522-4a87-9dad-f9c5eea956fb",
   "metadata": {},
   "source": [
    "PEC Corr= 1/(1+PEC)"
   ]
  },
  {
   "attachments": {
    "92753e7c-1359-4b76-bed5-938e4ef1475f.png": {
     "image/png": "[encoded data removed]"
    }
   },
   "cell_type": "markdown",
   "id": "941e1e28-f32c-414a-a283-4d058a7ea1cd",
   "metadata": {},
   "source": [
    "## Sulfur isotope balance\n",
    "- d34 melt * [C]melt * [X]melt + d34sulf * [C]sulf * [X]sulf + Ol (cancels except for X) = d34s i *[C]i * [X]i\n",
    "- Lets say Xi is 1 to simply the problem\n",
    "![image.png](attachment:92753e7c-1359-4b76-bed5-938e4ef1475f.png)"
   ]
  },
  {
   "cell_type": "code",
   "execution_count": 9,
   "id": "b6ccb219-54d4-4cfc-94a3-a8186f8bfca1",
   "metadata": {},
   "outputs": [
    {
     "name": "stdout",
     "output_type": "stream",
     "text": [
      "initial S content\n",
      "1185.235222765932\n",
      "Initial S isotope ratio\n",
      "1.5350906196098801\n"
     ]
    }
   ],
   "source": [
    "# What is the initial S content and S isotope ratio\n",
    "print('initial S content')\n",
    "init_S=np.max(stats_d34s_S['y_pred'])\n",
    "print(np.max(stats_d34s_S['y_pred']))\n",
    "init_34dS=np.max(stats_d34s_S['x_pred'])\n",
    "print('Initial S isotope ratio')\n",
    "print(np.max(stats_d34s_S['x_pred']))"
   ]
  },
  {
   "cell_type": "code",
   "execution_count": 10,
   "id": "6c785b08-3748-4543-bdf9-d92942ed0f30",
   "metadata": {},
   "outputs": [
    {
     "name": "stdout",
     "output_type": "stream",
     "text": [
      "Final S content\n",
      "491.1474414449055\n",
      "Final S isotope ratio\n",
      "-1.6218363799791469\n"
     ]
    }
   ],
   "source": [
    "# What is the final S content and S isotope ratio\n",
    "print('Final S content')\n",
    "Final_S=np.min(stats_d34s_S['y_pred'])\n",
    "print(np.min(stats_d34s_S['y_pred']))\n",
    "Final_34dS=np.min(stats_d34s_S['x_pred'])\n",
    "print('Final S isotope ratio')\n",
    "print(np.min(stats_d34s_S['x_pred']))"
   ]
  },
  {
   "cell_type": "code",
   "execution_count": 11,
   "id": "24935492-e4f9-4dff-9bfe-528a71d7c10c",
   "metadata": {},
   "outputs": [
    {
     "data": {
      "text/plain": [
       "0.6581818832939874"
      ]
     },
     "execution_count": 11,
     "metadata": {},
     "output_type": "execute_result"
    }
   ],
   "source": [
    "## Amoutn of PEC\n",
    "max_PEC=np.max(stats_PEC_S['x_pred'])\n",
    "XMelt_left=1/(1+(max_PEC/100))\n",
    "XMelt_left"
   ]
  },
  {
   "cell_type": "code",
   "execution_count": 12,
   "id": "54839392-00eb-4a59-9709-9c5beaafecc3",
   "metadata": {},
   "outputs": [
    {
     "data": {
      "text/plain": [
       "0.65"
      ]
     },
     "execution_count": 12,
     "metadata": {},
     "output_type": "execute_result"
    }
   ],
   "source": [
    "np.min(Undegassed_Lerner['PEC correction coefficient'])"
   ]
  },
  {
   "cell_type": "markdown",
   "id": "892c76fc-0bbf-4707-be8a-41cbddc4d92b",
   "metadata": {},
   "source": [
    "## Converting from d34S to ratios and back"
   ]
  },
  {
   "cell_type": "code",
   "execution_count": 13,
   "id": "dd113078-f3e7-466d-9e53-6a93eb0a1346",
   "metadata": {},
   "outputs": [],
   "source": [
    "st_ratio=1/22.6436 #4.4163750000000000000E-02\n",
    " #1/22.220\n",
    "\n",
    "def convert_d34_to_3432S(d34S=None):\n",
    "    S3432=((d34S/1000)+1)*(st_ratio)\n",
    "    return S3432\n",
    "\n",
    "def convert_3432S_to_d34(S3432=None):\n",
    "    d34S=(((S3432)/(st_ratio)) -1)*1000\n",
    "    return d34S\n",
    "    "
   ]
  },
  {
   "cell_type": "code",
   "execution_count": 18,
   "id": "aecace71-45e0-4dea-bd2b-40a4ce673943",
   "metadata": {},
   "outputs": [
    {
     "data": {
      "text/plain": [
       "0.04420675157660442"
      ]
     },
     "execution_count": 18,
     "metadata": {},
     "output_type": "execute_result"
    }
   ],
   "source": [
    "test1=convert_d34_to_3432S(d34S=1)\n",
    "test1"
   ]
  },
  {
   "cell_type": "code",
   "execution_count": 19,
   "id": "56996d6a-4c4f-494b-a25c-0e660791d1dc",
   "metadata": {},
   "outputs": [
    {
     "data": {
      "text/plain": [
       "0.9999999999998899"
      ]
     },
     "execution_count": 19,
     "metadata": {},
     "output_type": "execute_result"
    }
   ],
   "source": [
    "convert_3432S_to_d34(test1)"
   ]
  },
  {
   "cell_type": "code",
   "execution_count": 26,
   "id": "4f1ef1d4-0fc5-419f-a8c1-388481df5783",
   "metadata": {},
   "outputs": [],
   "source": [
    "def S_isotope_frac_model(alpha=None, PEC_lin=None):\n",
    "    # Linearly spaced vector of PEc\n",
    "    \n",
    "    # Amount of melt remaining based on how petrolog defines mass balance\n",
    "    X_melt_loop=1/(1+(PEC_lin/100))\n",
    "    # Amount of S in the sulfide\n",
    "    S_Sulf=32*10**4\n",
    "    # Regression linking S in the melt to the amount of PEC\n",
    "    Sulf_melt_lin=stats_PEC_S['Grad']*PEC_lin+stats_PEC_S['Int']\n",
    "    # Mass of S in the sulfide\n",
    "    X_Sulf_lin=(Sulf_melt_lin[0]-(X_melt_loop*Sulf_melt_lin))/S_Sulf\n",
    "    \n",
    "    # Setting up some empty variables to fill in in the loop\n",
    "    d34_melt_loop=np.empty(len(PEC_lin), float)\n",
    "    S3432_melt_loop=np.empty(len(PEC_lin), float)\n",
    "    S3432_sulf_loop=np.empty(len(PEC_lin), float)\n",
    "    alpha_34S=1/alpha\n",
    "    init_3432S=convert_d34_to_3432S(init_34dS)\n",
    "\n",
    "    for i in range(0, len(PEC_lin)):\n",
    "        \n",
    "        # Set at the start, as always re-equilibrate\n",
    "        constant=init_3432S*Sulf_melt_lin[0]*X_melt_loop[0] \n",
    "        if i==0:\n",
    "\n",
    "            S3432_melt_loop[i]=init_3432S\n",
    "            S3432_sulf_loop[i]=S3432_melt_loop[i]*alpha_34S\n",
    "\n",
    "        else:\n",
    "\n",
    "            S3432_melt_loop[i]=(constant)/(Sulf_melt_lin[i]*X_melt_loop[i]+alpha_34S*X_Sulf_lin[i]*S_Sulf)\n",
    "            S3432_sulf_loop[i]=S3432_melt_loop[i]*alpha_34S\n",
    "\n",
    "    d34_melt_loop=convert_3432S_to_d34(S3432_melt_loop)\n",
    "    d34_sulf_loop=convert_3432S_to_d34(S3432_sulf_loop)\n",
    "    return d34_melt_loop, d34_sulf_loop, Sulf_melt_lin"
   ]
  },
  {
   "cell_type": "code",
   "execution_count": 27,
   "id": "c96a43c8-4faa-490b-a750-e2008eca3e64",
   "metadata": {},
   "outputs": [],
   "source": [
    "PEC_lin=np.linspace(0, 60, 100)\n",
    "d34_melt_loop_997, d34_sulf_loop_997, Sulf_melt_lin=S_isotope_frac_model(alpha=0.997, PEC_lin=PEC_lin)\n",
    "d34_melt_loop_999, d34_sulf_loop_999, Sulf_melt_lin=S_isotope_frac_model(alpha=0.999, PEC_lin=PEC_lin)\n",
    "\n",
    "d34_melt_loop_996, d34_sulf_loop_996, Sulf_melt_lin=S_isotope_frac_model(alpha=0.996, PEC_lin=PEC_lin)\n",
    "d34_melt_loop_995, d34_sulf_loop_995, Sulf_melt_lin=S_isotope_frac_model(alpha=0.995, PEC_lin=PEC_lin)"
   ]
  },
  {
   "cell_type": "code",
   "execution_count": 28,
   "id": "f7ab667c-c363-4aed-872b-a0e74b281cc7",
   "metadata": {},
   "outputs": [],
   "source": [
    "df_model=pd.DataFrame(data={'Sulf in melt': Sulf_melt_lin,\n",
    "                            'd34_alpha997': d34_melt_loop_997,\n",
    "                            'd34_alpha996': d34_melt_loop_996,\n",
    "                            'd34_alpha995': d34_melt_loop_995})\n",
    "df_model.to_excel('S_isotope_Frac.xlsx')"
   ]
  },
  {
   "cell_type": "code",
   "execution_count": 29,
   "id": "274428fa-5b42-4d78-a135-24f7f6834f00",
   "metadata": {},
   "outputs": [],
   "source": [
    "## Regression for MgO to compare to Alae lava lake\n",
    "\n",
    "## Then plot of d34S vs. FeO\n",
    "\n",
    "y='MgO wt%_Raw'\n",
    "x='PEC_Equivalent'\n",
    "\n",
    "\n",
    "# Calculate R2\n",
    "x_vals=Undegassed_Lerner[x]\n",
    "y_vals= Undegassed_Lerner[y]\n",
    "\n",
    "stats_PEC_MgO=pt.calculate_R2(x_vals, y_vals)\n",
    "stats_PEC_MgO['R2']\n",
    "\n",
    "MgO_melt_lin=stats_PEC_MgO['Grad']*PEC_lin+stats_PEC_MgO['Int']"
   ]
  },
  {
   "cell_type": "code",
   "execution_count": 31,
   "id": "ac551bae-2f56-47b4-a90a-5f735fef5f3c",
   "metadata": {},
   "outputs": [
    {
     "data": {
      "text/plain": [
       "[<matplotlib.lines.Line2D at 0x1e29258c4f0>]"
      ]
     },
     "execution_count": 31,
     "metadata": {},
     "output_type": "execute_result"
    },
    {
     "data": {
      "image/png": "[encoded data removed]",
      "text/plain": [
       "<Figure size 432x288 with 1 Axes>"
      ]
     },
     "metadata": {
      "needs_background": "light"
     },
     "output_type": "display_data"
    }
   ],
   "source": [
    "plt.plot(PEC_lin, Sulf_melt_lin, '-r')"
   ]
  }
 ],
 "metadata": {
  "kernelspec": {
   "display_name": "Python 3 (ipykernel)",
   "language": "python",
   "name": "python3"
  },
  "language_info": {
   "codemirror_mode": {
    "name": "ipython",
    "version": 3
   },
   "file_extension": ".py",
   "mimetype": "text/x-python",
   "name": "python",
   "nbconvert_exporter": "python",
   "pygments_lexer": "ipython3",
   "version": "3.9.13"
  }
 },
 "nbformat": 4,
 "nbformat_minor": 5
}
